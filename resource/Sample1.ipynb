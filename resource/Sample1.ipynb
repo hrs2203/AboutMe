{
 "cells": [
  {
   "cell_type": "markdown",
   "metadata": {},
   "source": [
    "# Sample Test Notebook\n",
    "\n",
    "This notebook is a sample just to see how this is going to work.\n",
    "\n",
    "1. Code samples\n",
    "2. md tutorial in mid."
   ]
  },
  {
   "cell_type": "code",
   "execution_count": 1,
   "metadata": {},
   "outputs": [],
   "source": [
    "def loremFnx():\n",
    "    print(\"some people\")\n",
    "    print(\"some people\")\n",
    "    print(\"some people\")\n",
    "    print(\"some people\")"
   ]
  },
  {
   "cell_type": "markdown",
   "metadata": {},
   "source": [
    "lorem ipsem and the quick brown fox jump of the clip. lorem ipsem and the quick brown fox jump of the clip. lorem ipsem and the quick brown fox jump of the clip. lorem ipsem and the quick brown fox jump of the clip. lorem ipsem and the quick brown fox jump of the clip. "
   ]
  },
  {
   "cell_type": "code",
   "execution_count": 2,
   "metadata": {},
   "outputs": [],
   "source": [
    "def loremFnx():\n",
    "    print(\"some people\")\n",
    "    print(\"some people\")\n",
    "    print(\"some people\")\n",
    "    print(\"some people\")"
   ]
  },
  {
   "cell_type": "markdown",
   "metadata": {},
   "source": [
    "### The End"
   ]
  }
 ],
 "metadata": {
  "kernelspec": {
   "display_name": "Python 3",
   "language": "python",
   "name": "python3"
  },
  "language_info": {
   "codemirror_mode": {
    "name": "ipython",
    "version": 3
   },
   "file_extension": ".py",
   "mimetype": "text/x-python",
   "name": "python",
   "nbconvert_exporter": "python",
   "pygments_lexer": "ipython3",
   "version": "3.6.9"
  }
 },
 "nbformat": 4,
 "nbformat_minor": 4
}
